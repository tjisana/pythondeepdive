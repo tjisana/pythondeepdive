{
 "cells": [
  {
   "cell_type": "markdown",
   "source": [
    "Style Guide\n",
    "Classes should be upper camel case. eg. RedCar\n",
    "function and variable names should be lower case, with words separated by underscores e.g. best_variable"
   ],
   "metadata": {
    "collapsed": false,
    "pycharm": {
     "name": "#%% md\n"
    }
   }
  },
  {
   "cell_type": "markdown",
   "source": [
    "The def keyword is an executable piece of code that creates the function (an instance of the function class) and essentially assigns it to a variable name (the function name).\n",
    "\n",
    "Note that the function is defined when def is reached, but the code inside it is not evaluated until the function is called.\n",
    "\n",
    "This is why we can define functions that call other functions defined later - as long as we don't call them before all the necessary functions are defined."
   ],
   "metadata": {
    "collapsed": false,
    "pycharm": {
     "name": "#%% md\n"
    }
   }
  },
  {
   "cell_type": "code",
   "execution_count": 4,
   "outputs": [
    {
     "name": "stdout",
     "output_type": "stream",
     "text": [
      "[1, 2, 3, 4]\n"
     ]
    },
    {
     "name": "stderr",
     "output_type": "stream",
     "text": [
      "Traceback (most recent call last):\n",
      "  File \"/home/tjisana/Downloads/pycharm-2021.2.1/plugins/python/helpers/pydev/_pydevd_bundle/pydevd_frame.py\", line 861, in trace_dispatch\n",
      "    result = plugin_manager.cmd_step_over(main_debugger, frame, event, self._args, stop_info, stop)\n",
      "  File \"/home/tjisana/Downloads/pycharm-2021.2.1/plugins/python/helpers-pro/jupyter_debug/pydev_jupyter_plugin.py\", line 144, in cmd_step_over\n",
      "    if _is_inside_jupyter_cell(frame, pydb):\n",
      "  File \"/home/tjisana/Downloads/pycharm-2021.2.1/plugins/python/helpers-pro/jupyter_debug/pydev_jupyter_plugin.py\", line 209, in _is_inside_jupyter_cell\n",
      "    if is_cell_filename(filename):\n",
      "  File \"/home/tjisana/Downloads/pycharm-2021.2.1/plugins/python/helpers-pro/jupyter_debug/pydev_jupyter_plugin.py\", line 220, in is_cell_filename\n",
      "    ipython_shell = get_ipython()\n",
      "NameError: name 'get_ipython' is not defined\n"
     ]
    }
   ],
   "source": [
    "#Use of while else\n",
    "\n",
    "l = [1, 2,3 ,4]\n",
    "val = 3\n",
    "\n",
    "idx = 0\n",
    "\n",
    "while idx < len(l):\n",
    "    if l[idx] == val:\n",
    "        break\n",
    "    idx +=1\n",
    "else:\n",
    "    l.append(val)\n",
    "\n",
    "print(l)"
   ],
   "metadata": {
    "collapsed": false,
    "pycharm": {
     "name": "#%%\n"
    }
   }
  },
  {
   "cell_type": "markdown",
   "source": [
    "Key take aways from\n",
    "* while else\n",
    "* try except finally\n",
    "* while break continue\n",
    "* while break try except finally\n",
    "* for loop with else\n",
    "\n",
    "For while else --> else ONLY excutes if while loop exited normally. i.e. never encountered break or return\n",
    "if try except finally is nested inside of a while loop, the finally clause will always excute EVEN IF a break statement was encountered\n",
    "A for loop may contain an else clause. It behaves in the same way as a while loop, that being, the else clause excuted as long as a break or return is not encountered"
   ],
   "metadata": {
    "collapsed": false,
    "pycharm": {
     "name": "#%% md\n"
    }
   }
  },
  {
   "cell_type": "code",
   "execution_count": 8,
   "outputs": [
    {
     "name": "stdout",
     "output_type": "stream",
     "text": [
      "-------------\n",
      "a: 2 b: 1\n",
      "this always runs\n",
      "final statement\n",
      "-------------\n",
      "a: 3 b: 0\n",
      "error\n",
      "this always runs\n"
     ]
    }
   ],
   "source": [
    "a = 0\n",
    "b = 5\n",
    "\n",
    "while a < 3:\n",
    "    print('-------------')\n",
    "    a += 1\n",
    "    b -= 1\n",
    "    try:\n",
    "        res = a / b\n",
    "    except ZeroDivisionError:\n",
    "        print('{0}, {1} - division by 0'.format(a, b))\n",
    "        res = 0\n",
    "        break\n",
    "    finally:\n",
    "        print('{0}, {1} - always executes'.format(a, b))\n",
    "\n",
    "    print('{0}, {1} - main loop'.format(a, b))\n",
    "else:\n",
    "    print('\\n\\nno errors were encountered!')"
   ],
   "metadata": {
    "collapsed": false,
    "pycharm": {
     "name": "#%%\n"
    }
   }
  },
  {
   "cell_type": "code",
   "execution_count": 1,
   "outputs": [
    {
     "data": {
      "text/plain": "'Tjisana'"
     },
     "execution_count": 1,
     "metadata": {},
     "output_type": "execute_result"
    }
   ],
   "source": [
    "class Person:\n",
    "    def __init__(self, age: int, name: str) -> None:\n",
    "        self._age = age\n",
    "        self._name = name\n",
    "\n",
    "    @property\n",
    "    def age(self):\n",
    "        return self._age\n",
    "\n",
    "    @age.setter\n",
    "    def age(self, age: int) -> None:\n",
    "        if age < 0:\n",
    "            raise ValueError(\"Age must be 0 or bigger\")\n",
    "        self._age = age\n",
    "\n",
    "    @property\n",
    "    def name(self):\n",
    "        return self._name\n",
    "\n",
    "p = Person(\"Tjisana\", 35)\n",
    "p.age"
   ],
   "metadata": {
    "collapsed": false,
    "pycharm": {
     "name": "#%%\n"
    }
   }
  }
 ],
 "metadata": {
  "kernelspec": {
   "display_name": "Python 3",
   "language": "python",
   "name": "python3"
  },
  "language_info": {
   "codemirror_mode": {
    "name": "ipython",
    "version": 3
   },
   "file_extension": ".py",
   "mimetype": "text/x-python",
   "name": "python",
   "nbconvert_exporter": "python",
   "pygments_lexer": "ipython3",
   "version": "3.6.1"
  }
 },
 "nbformat": 4,
 "nbformat_minor": 2
}