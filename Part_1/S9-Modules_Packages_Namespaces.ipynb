{
 "cells": [
  {
   "cell_type": "markdown",
   "source": [
    "What does \"import tjisana\" do?\n",
    "It does 5 things\n",
    "* check to see if math already exists (aka has it already been imported)\n",
    "* if it doesn't already exists, then it looks for tjisana.py in sys.path\n",
    "* when it finds tjisana.py it then compiles and executes the code\n",
    "* it places all the variables and functions in tjisana.py into the tjisana namespace aka \"tjisana.\\_\\_dict\\_\\_\"\n",
    "* It add a key value pair to sys.modules, where the key is \"tjisana\" and the value is a Module\n",
    "* It also adds a key value pair to the globals"
   ],
   "metadata": {
    "collapsed": false,
    "pycharm": {
     "name": "#%% md\n"
    }
   }
  }
 ],
 "metadata": {
  "kernelspec": {
   "display_name": "Python 3",
   "language": "python",
   "name": "python3"
  },
  "language_info": {
   "codemirror_mode": {
    "name": "ipython",
    "version": 3
   },
   "file_extension": ".py",
   "mimetype": "text/x-python",
   "name": "python",
   "nbconvert_exporter": "python",
   "pygments_lexer": "ipython3",
   "version": "3.6.2"
  }
 },
 "nbformat": 4,
 "nbformat_minor": 2
}