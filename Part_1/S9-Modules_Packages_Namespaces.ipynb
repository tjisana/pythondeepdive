{
 "cells": [
  {
   "cell_type": "markdown",
   "metadata": {
    "collapsed": false,
    "pycharm": {
     "name": "#%% md\n"
    }
   },
   "source": [
    "What does ```import tjisana``` do?\n",
    "N.B. The first thing to note is that Python is doing the import at **run time**, i.e. while your code is actually running.\n",
    "This is different from traditional compiled languages such as C where modules are compiled and linked at compile time.\n",
    "Python looks for imports in sys.path\n",
    "You can also find which modules are loaded by looking in ```sys.modules```\n",
    "\n",
    "It does 5 things\n",
    "* check to see if tjisana already exists (aka has it already been imported)\n",
    "* if it doesn't already exists, then it looks for tjisana.py in ```sys.path```\n",
    "* when it finds tjisana.py it then compiles and executes the code\n",
    "* it places all the variables and functions in tjisana.py into the tjisana namespace aka ```tjisana.__dict__```\n",
    "* It add a key value pair to ```sys.modules```, where the key is \"tjisana\" and the value is a Module\n",
    "* It also adds a key value pair to the globals\n",
    "\n",
    "\n",
    "Modules can be packages. \n",
    "If you import a module (e.g. import tjisana). You can check if it is a package by checking ```tjisana.__path__```. This value must be set for it to be a package\n",
    "\n",
    "\n",
    "When using the star import e.g. from tjisana import *\n",
    "* import \\* will ignore any function or variable prefixed with an underscore\n",
    "* you can specify a list of strings called ```__all__``` with the name of symbols that should not be imported"
   ]
  }
 ],
 "metadata": {
  "kernelspec": {
   "display_name": "Python 3",
   "language": "python",
   "name": "python3"
  },
  "language_info": {
   "codemirror_mode": {
    "name": "ipython",
    "version": 3
   },
   "file_extension": ".py",
   "mimetype": "text/x-python",
   "name": "python",
   "nbconvert_exporter": "python",
   "pygments_lexer": "ipython3",
   "version": "3.6.2"
  }
 },
 "nbformat": 4,
 "nbformat_minor": 2
}
