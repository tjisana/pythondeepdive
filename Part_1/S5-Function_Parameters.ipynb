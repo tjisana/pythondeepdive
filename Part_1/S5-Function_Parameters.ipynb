{
 "cells": [
  {
   "cell_type": "code",
   "execution_count": 9,
   "outputs": [
    {
     "name": "stdout",
     "output_type": "stream",
     "text": [
      "[1, 2, 3, 4, 5, 6]\n",
      "{'d', 'b', 'a', 'c'}\n",
      "{'a': 1, 'b': 2, 'c': 3, 'd': 4}\n"
     ]
    }
   ],
   "source": [
    "a,b, *_, c = [1,2,3,4,5,6,7,8]\n",
    "a\n",
    "a = [1,2,3]\n",
    "b = [4,5,6]\n",
    "c = [*a, *b]\n",
    "print(c)\n",
    "a = {'a': 1, 'b': 2}\n",
    "b = {'c': 3, 'd': 4}\n",
    "e = {*a, *b}\n",
    "#notice only the keys were unpacked. if the desired effect is to merge the dictionaries then we need to use **\n",
    "print(e)\n",
    "\n",
    "a = {'a': 1, 'b': 2}\n",
    "b = {'c': 3, 'd': 4}\n",
    "e = {**a, **b}\n",
    "print(e)"
   ],
   "metadata": {
    "collapsed": false,
    "pycharm": {
     "name": "#%%\n"
    }
   }
  },
  {
   "cell_type": "code",
   "execution_count": 18,
   "outputs": [
    {
     "name": "stdout",
     "output_type": "stream",
     "text": [
      "[3, 4, 5, 6, 7, 8]\n",
      "1\n",
      "2\n",
      "(3, 4, 5, 6, 7, 8)\n"
     ]
    }
   ],
   "source": [
    "#Let use unpacking but for functions\n",
    "a,b, *args = [1,2,3,4,5,6,7,8]\n",
    "print(args) #note that args is a LIST\n",
    "\n",
    "def starargs(v1, v2, *args):\n",
    "    print(v1)\n",
    "    print(v2)\n",
    "    print(args)\n",
    "\n",
    "starargs(1,2,3,4,5,6,7,8)"
   ],
   "metadata": {
    "collapsed": false,
    "pycharm": {
     "name": "#%%\n"
    }
   }
  },
  {
   "cell_type": "code",
   "execution_count": 24,
   "outputs": [
    {
     "ename": "SyntaxError",
     "evalue": "non-default argument follows default argument (2955990579.py, line 6)",
     "output_type": "error",
     "traceback": [
      "\u001B[0;36m  File \u001B[0;32m\"/tmp/ipykernel_7144/2955990579.py\"\u001B[0;36m, line \u001B[0;32m6\u001B[0m\n\u001B[0;31m    def func(a, b='world', c):\u001B[0m\n\u001B[0m                            ^\u001B[0m\n\u001B[0;31mSyntaxError\u001B[0m\u001B[0;31m:\u001B[0m non-default argument follows default argument\n"
     ]
    }
   ],
   "source": [
    "def func(*, a=10, b): #LEGAL\n",
    "    print(b)\n",
    "\n",
    "func(b='tj')\n",
    "\n",
    "def func(a, b='world', c): #IILEGAL\n",
    "    print(a, b, c)"
   ],
   "metadata": {
    "collapsed": false,
    "pycharm": {
     "name": "#%%\n"
    }
   }
  },
  {
   "cell_type": "code",
   "execution_count": null,
   "outputs": [],
   "source": [
    "def func1(*args, **kwargs): #OK\n",
    "    pass\n",
    "\n",
    "def func2(*, a, b): #OK\n",
    "    pass\n",
    "\n",
    "def func3(**kwargs): #OK\n",
    "    pass\n",
    "\n",
    "def func4(*, **kwargs): #ILLEGAL\n",
    "    pass\n"
   ],
   "metadata": {
    "collapsed": false,
    "pycharm": {
     "name": "#%%\n"
    }
   }
  },
  {
   "cell_type": "markdown",
   "source": [
    "If you want to specify both specific keyword-only arguments and **\\*\\*kwargs** you will need to first get to a point where you can define a keyword-only argument (i.e. exhaust the positional arguments, using either **\\*args** or just **\\***)"
   ],
   "metadata": {
    "collapsed": false
   }
  },
  {
   "cell_type": "code",
   "execution_count": null,
   "outputs": [],
   "source": [
    "def func(*, d, **kwargs):\n",
    "    print(d)\n",
    "    print(kwargs)"
   ],
   "metadata": {
    "collapsed": false,
    "pycharm": {
     "name": "#%%\n"
    }
   }
  },
  {
   "cell_type": "code",
   "execution_count": null,
   "outputs": [],
   "source": [
    "func(d=1, x=100, y=200)"
   ],
   "metadata": {
    "collapsed": false,
    "pycharm": {
     "name": "#%%\n"
    }
   }
  }
 ],
 "metadata": {
  "kernelspec": {
   "display_name": "Python 3",
   "language": "python",
   "name": "python3"
  },
  "language_info": {
   "codemirror_mode": {
    "name": "ipython",
    "version": 3
   },
   "file_extension": ".py",
   "mimetype": "text/x-python",
   "name": "python",
   "nbconvert_exporter": "python",
   "pygments_lexer": "ipython3",
   "version": "3.6.2"
  }
 },
 "nbformat": 4,
 "nbformat_minor": 2
}